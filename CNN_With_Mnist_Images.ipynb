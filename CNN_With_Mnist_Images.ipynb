{
  "nbformat": 4,
  "nbformat_minor": 0,
  "metadata": {
    "colab": {
      "name": "CNN With Mnist Images",
      "version": "0.3.2",
      "provenance": [],
      "collapsed_sections": []
    },
    "kernelspec": {
      "name": "python3",
      "display_name": "Python 3"
    },
    "accelerator": "GPU"
  },
  "cells": [
    {
      "metadata": {
        "id": "pzJHIJK7oNaR",
        "colab_type": "code",
        "outputId": "a10a40d2-6f1a-458b-ebce-62b813032cf8",
        "colab": {
          "base_uri": "https://localhost:8080/",
          "height": 121
        }
      },
      "cell_type": "code",
      "source": [
        "from google.colab import drive\n",
        "drive.mount(\"/content/gdrive\",force_remount=True)"
      ],
      "execution_count": 2,
      "outputs": [
        {
          "output_type": "stream",
          "text": [
            "Go to this URL in a browser: https://accounts.google.com/o/oauth2/auth?client_id=947318989803-6bn6qk8qdgf4n4g3pfee6491hc0brc4i.apps.googleusercontent.com&redirect_uri=urn%3Aietf%3Awg%3Aoauth%3A2.0%3Aoob&scope=email%20https%3A%2F%2Fwww.googleapis.com%2Fauth%2Fdocs.test%20https%3A%2F%2Fwww.googleapis.com%2Fauth%2Fdrive%20https%3A%2F%2Fwww.googleapis.com%2Fauth%2Fdrive.photos.readonly%20https%3A%2F%2Fwww.googleapis.com%2Fauth%2Fpeopleapi.readonly&response_type=code\n",
            "\n",
            "Enter your authorization code:\n",
            "··········\n",
            "Mounted at /content/gdrive\n"
          ],
          "name": "stdout"
        }
      ]
    },
    {
      "metadata": {
        "id": "MRFBC-lwoalW",
        "colab_type": "code",
        "colab": {}
      },
      "cell_type": "code",
      "source": [
        "import tensorflow as tf"
      ],
      "execution_count": 0,
      "outputs": []
    },
    {
      "metadata": {
        "id": "Ka2CMvEijtOb",
        "colab_type": "code",
        "colab": {}
      },
      "cell_type": "code",
      "source": [
        "from skimage.color import gray2rgb, rgb2gray, label2rgb"
      ],
      "execution_count": 0,
      "outputs": []
    },
    {
      "metadata": {
        "id": "XAMjXRfPKvsF",
        "colab_type": "code",
        "colab": {
          "base_uri": "https://localhost:8080/",
          "height": 67
        },
        "outputId": "a84c64ae-02dd-43d0-8940-a245a4a4d2e0"
      },
      "cell_type": "code",
      "source": [
        "from keras.datasets import mnist\n",
        "\n",
        "(train_x, train_y), (test_x, test_y) = mnist.load_data()"
      ],
      "execution_count": 5,
      "outputs": [
        {
          "output_type": "stream",
          "text": [
            "Using TensorFlow backend.\n"
          ],
          "name": "stderr"
        },
        {
          "output_type": "stream",
          "text": [
            "Downloading data from https://s3.amazonaws.com/img-datasets/mnist.npz\n",
            "11493376/11490434 [==============================] - 2s 0us/step\n"
          ],
          "name": "stdout"
        }
      ]
    },
    {
      "metadata": {
        "id": "n_KuePZpLaH5",
        "colab_type": "code",
        "colab": {
          "base_uri": "https://localhost:8080/",
          "height": 34
        },
        "outputId": "d0b1d367-ad82-41dd-e5f2-7c2201d85993"
      },
      "cell_type": "code",
      "source": [
        "train_x.shape"
      ],
      "execution_count": 6,
      "outputs": [
        {
          "output_type": "execute_result",
          "data": {
            "text/plain": [
              "(60000, 28, 28)"
            ]
          },
          "metadata": {
            "tags": []
          },
          "execution_count": 6
        }
      ]
    },
    {
      "metadata": {
        "id": "7OXSdScxEjed",
        "colab_type": "code",
        "colab": {}
      },
      "cell_type": "code",
      "source": [
        "image = gray2rgb(train_x[0].reshape(28,28))"
      ],
      "execution_count": 0,
      "outputs": []
    },
    {
      "metadata": {
        "id": "pTwc32OcLbq2",
        "colab_type": "code",
        "colab": {
          "base_uri": "https://localhost:8080/",
          "height": 34
        },
        "outputId": "dc7eb140-6545-49d1-a2c5-6142879ec4ac"
      },
      "cell_type": "code",
      "source": [
        "train_y.shape"
      ],
      "execution_count": 8,
      "outputs": [
        {
          "output_type": "execute_result",
          "data": {
            "text/plain": [
              "(60000,)"
            ]
          },
          "metadata": {
            "tags": []
          },
          "execution_count": 8
        }
      ]
    },
    {
      "metadata": {
        "id": "kWVwDpFdElq3",
        "colab_type": "code",
        "colab": {}
      },
      "cell_type": "code",
      "source": [
        "import matplotlib.pyplot as plt\n",
        "import numpy as np"
      ],
      "execution_count": 0,
      "outputs": []
    },
    {
      "metadata": {
        "id": "HS03x-xuE8Jc",
        "colab_type": "code",
        "colab": {
          "base_uri": "https://localhost:8080/",
          "height": 364
        },
        "outputId": "697a1d71-a3b6-4dee-b1f9-48563038b4b8"
      },
      "cell_type": "code",
      "source": [
        "plt.imshow(image)"
      ],
      "execution_count": 10,
      "outputs": [
        {
          "output_type": "execute_result",
          "data": {
            "text/plain": [
              "<matplotlib.image.AxesImage at 0x7f23ce06d1d0>"
            ]
          },
          "metadata": {
            "tags": []
          },
          "execution_count": 10
        },
        {
          "output_type": "display_data",
          "data": {
            "image/png": "[encoded data removed]",
            "text/plain": [
              "<matplotlib.figure.Figure at 0x7f240dfe7cf8>"
            ]
          },
          "metadata": {
            "tags": []
          }
        }
      ]
    },
    {
      "metadata": {
        "id": "NkXsvID2Gad_",
        "colab_type": "code",
        "colab": {}
      },
      "cell_type": "code",
      "source": [
        "train_y_new = []\n",
        "\n",
        "for i in train_y:\n",
        "  l =[0]*10\n",
        "  l[i] = 1\n",
        "  train_y_new.append(l)"
      ],
      "execution_count": 0,
      "outputs": []
    },
    {
      "metadata": {
        "id": "oDwWO_gzGoGy",
        "colab_type": "code",
        "colab": {}
      },
      "cell_type": "code",
      "source": [
        "train_y = np.array(train_y_new)"
      ],
      "execution_count": 0,
      "outputs": []
    },
    {
      "metadata": {
        "id": "aIOVP2O0GrWm",
        "colab_type": "code",
        "colab": {
          "base_uri": "https://localhost:8080/",
          "height": 34
        },
        "outputId": "9ad0699f-5dde-4314-dcaf-ac6f7761f5e3"
      },
      "cell_type": "code",
      "source": [
        "train_y.shape"
      ],
      "execution_count": 13,
      "outputs": [
        {
          "output_type": "execute_result",
          "data": {
            "text/plain": [
              "(60000, 10)"
            ]
          },
          "metadata": {
            "tags": []
          },
          "execution_count": 13
        }
      ]
    },
    {
      "metadata": {
        "id": "vMr5INmJLnlu",
        "colab_type": "code",
        "colab": {}
      },
      "cell_type": "code",
      "source": [
        "test_y_new = []\n",
        "\n",
        "for i in test_y:\n",
        "  l =[0]*10\n",
        "  l[i] = 1\n",
        "  test_y_new.append(l)"
      ],
      "execution_count": 0,
      "outputs": []
    },
    {
      "metadata": {
        "id": "nMeHfQZvLsOF",
        "colab_type": "code",
        "colab": {}
      },
      "cell_type": "code",
      "source": [
        "test_y = np.array(test_y_new)"
      ],
      "execution_count": 0,
      "outputs": []
    },
    {
      "metadata": {
        "id": "ZpnLzO9gLvnV",
        "colab_type": "code",
        "colab": {
          "base_uri": "https://localhost:8080/",
          "height": 34
        },
        "outputId": "e926e80e-d7b2-4301-c007-77921f3ef895"
      },
      "cell_type": "code",
      "source": [
        "test_y.shape"
      ],
      "execution_count": 16,
      "outputs": [
        {
          "output_type": "execute_result",
          "data": {
            "text/plain": [
              "(10000, 10)"
            ]
          },
          "metadata": {
            "tags": []
          },
          "execution_count": 16
        }
      ]
    },
    {
      "metadata": {
        "id": "JpIFQrzAL62p",
        "colab_type": "code",
        "colab": {}
      },
      "cell_type": "code",
      "source": [
        "train_x = np.stack([gray2rgb(iimg) for iimg in train_x],0)\n",
        "test_x = np.stack([gray2rgb(iimg) for iimg in test_x],0)"
      ],
      "execution_count": 0,
      "outputs": []
    },
    {
      "metadata": {
        "id": "PThb_AZzMDDu",
        "colab_type": "code",
        "colab": {
          "base_uri": "https://localhost:8080/",
          "height": 34
        },
        "outputId": "d9e8285f-08d1-44de-d255-6b3a1109fc05"
      },
      "cell_type": "code",
      "source": [
        "train_x.shape"
      ],
      "execution_count": 18,
      "outputs": [
        {
          "output_type": "execute_result",
          "data": {
            "text/plain": [
              "(60000, 28, 28, 3)"
            ]
          },
          "metadata": {
            "tags": []
          },
          "execution_count": 18
        }
      ]
    },
    {
      "metadata": {
        "id": "D0AzI1ppGJpA",
        "colab_type": "code",
        "colab": {}
      },
      "cell_type": "code",
      "source": [
        "batch_size = 128\n",
        "filter_size = 3"
      ],
      "execution_count": 0,
      "outputs": []
    },
    {
      "metadata": {
        "id": "XwCts5XSG2Xb",
        "colab_type": "code",
        "colab": {}
      },
      "cell_type": "code",
      "source": [
        "x = tf.placeholder(tf.float32,(None, 28,28,3))"
      ],
      "execution_count": 0,
      "outputs": []
    },
    {
      "metadata": {
        "id": "dGjbj-1KHC9R",
        "colab_type": "code",
        "colab": {}
      },
      "cell_type": "code",
      "source": [
        "y = tf.placeholder(tf.float32,(None,10))\n",
        "result = tf.Variable(tf.random_normal([10]))"
      ],
      "execution_count": 0,
      "outputs": []
    },
    {
      "metadata": {
        "id": "4hdZQ2nXHE0z",
        "colab_type": "code",
        "colab": {}
      },
      "cell_type": "code",
      "source": [
        "#Let our model have three Convolutional Layers\n",
        "\n",
        "#The first layer will have 16 3X3 filters.\n",
        "#The second layer will have 32 3X3 filters.\n",
        "#The third layer will have 64 3X3 filters.\n",
        "\n",
        "#Each layer will have a corresponding bias term as well.\n",
        "\n",
        "#At the end of each layer we will have a max pooling layer performing the pooling operation\n",
        "#The pool will be done by a 2X2 filter.\n",
        "\n",
        "#We will then flatten the output from the last convolution layer to feed it as the input to the fully connected layer."
      ],
      "execution_count": 0,
      "outputs": []
    },
    {
      "metadata": {
        "id": "6hEonEpXHHVA",
        "colab_type": "code",
        "colab": {}
      },
      "cell_type": "code",
      "source": [
        "#conv layer 1 : input image of dimension 28 X 28 X 3.\n",
        "#The third dimension of the image is the same to be used for the third dimension of the weights\n",
        "#The conv layer 1 gives out 16 activation maps.\n",
        "conv1_weight = tf.Variable(tf.truncated_normal([filter_size,filter_size,3,16],stddev=0.1))\n",
        "conv1_bias = tf.Variable(tf.truncated_normal([16],stddev = 0.1))\n",
        "\n",
        "#conv layer 2 : input is 16 activation maps from conv layer 1.\n",
        "#The conv layer 2 gives out 32 activation maps.\n",
        "conv2_weight = tf.Variable(tf.truncated_normal([filter_size,filter_size,16,32],stddev = 0.1))\n",
        "conv2_bias = tf.Variable(tf.truncated_normal([32],stddev = 0.1))\n",
        "\n",
        "#conv layer 3 : input is 32 activation maps from conv layer 2.\n",
        "#The conv layer 3 gives out 64 activation maps.\n",
        "conv3_weight = tf.Variable(tf.truncated_normal([filter_size,filter_size,32,64],stddev = 0.1))\n",
        "conv3_bias = tf.Variable(tf.truncated_normal([64],stddev=0.1))"
      ],
      "execution_count": 0,
      "outputs": []
    },
    {
      "metadata": {
        "id": "Sea4T0mnHObP",
        "colab_type": "code",
        "colab": {}
      },
      "cell_type": "code",
      "source": [
        "#At the end of these convolution layers we have 4 X 4 X 1 activation maps and 64 of those.\n",
        "#We need to flatten these\n",
        "\n",
        "flatten_weight = tf.Variable(tf.truncated_normal([4*4*64,64],stddev =0.1))\n",
        "flatten_bias = tf.Variable(tf.truncated_normal([64],stddev = 0.1))"
      ],
      "execution_count": 0,
      "outputs": []
    },
    {
      "metadata": {
        "id": "jC-uA2kOHS9u",
        "colab_type": "code",
        "colab": {}
      },
      "cell_type": "code",
      "source": [
        "#Finally the output layer\n",
        "\n",
        "output_weight = tf.Variable(tf.truncated_normal([64,10],stddev = 0.1))\n",
        "output_bias = tf.Variable(tf.truncated_normal([10],stddev = 0.1))"
      ],
      "execution_count": 0,
      "outputs": []
    },
    {
      "metadata": {
        "id": "O-I5X4tbHqlY",
        "colab_type": "code",
        "colab": {}
      },
      "cell_type": "code",
      "source": [
        "#Now we need to define a wrapper around the tensoflow conv2d function to return the conv layer output\n",
        "#It takes 3 arguments \n",
        "#    1.The input -> x\n",
        "#    2.The weights -> w\n",
        "#    3.The bias -> b\n",
        "#We use Relu as the activation function\n",
        "\n",
        "#We take the stride as 1\n",
        "stride = 1\n",
        "\n",
        "def convolution_2d(x, w, b):\n",
        "  x = tf.nn.conv2d(x, w, strides=[1, stride, stride, 1], padding='SAME')\n",
        "  \n",
        "  z = tf.nn.bias_add(x,b)\n",
        "  \n",
        "  op = tf.nn.relu(z)\n",
        "  \n",
        "  return op"
      ],
      "execution_count": 0,
      "outputs": []
    },
    {
      "metadata": {
        "id": "L71AkJNNHUpH",
        "colab_type": "code",
        "colab": {}
      },
      "cell_type": "code",
      "source": [
        "#Now we need to define a wrapper around the tensoflow maxpool2d function to return the pooled output\n",
        "#It takes 2 arguments \n",
        "#    1.The input -> x\n",
        "#    2.The kernel size -> k\n",
        "\n",
        "#We take the kernel size as 2\n",
        "kernel_size = 2\n",
        "\n",
        "def maxpool_2d(x):\n",
        "  op = tf.nn.max_pool(x, ksize = [1,kernel_size,kernel_size,1], strides = [1,kernel_size,kernel_size,1], padding = 'SAME')\n",
        "  \n",
        "  return op"
      ],
      "execution_count": 0,
      "outputs": []
    },
    {
      "metadata": {
        "id": "gpN6hfXqHX9Q",
        "colab_type": "code",
        "colab": {}
      },
      "cell_type": "code",
      "source": [
        "#The function for the fully connected layer\n",
        "#It takes 3 arguments \n",
        "#    1.The input -> x\n",
        "#    2.The weights -> w\n",
        "#    3.The bias -> b\n",
        "#We use Relu as the activation function\n",
        "\n",
        "def fully_connected_layer(x,w,b):\n",
        "  z = tf.matmul(x,w)\n",
        "  z = tf.add(z,b)\n",
        "  \n",
        "  op = tf.nn.relu(z)\n",
        "  \n",
        "  return op"
      ],
      "execution_count": 0,
      "outputs": []
    },
    {
      "metadata": {
        "id": "SWGybBIIHaMC",
        "colab_type": "code",
        "colab": {}
      },
      "cell_type": "code",
      "source": [
        "#Output layer\n",
        "#It takes 3 arguments \n",
        "#    1.The input -> x\n",
        "#    2.The weights -> w\n",
        "#    3.The bias -> b\n",
        "\n",
        "def output_layer(x,w,b):\n",
        "  z = tf.matmul(x,w)\n",
        "  z = tf.add(z,b)\n",
        "  return z\n"
      ],
      "execution_count": 0,
      "outputs": []
    },
    {
      "metadata": {
        "id": "cgjMRyQrHb8h",
        "colab_type": "code",
        "colab": {}
      },
      "cell_type": "code",
      "source": [
        "#Now that we have our wrappers ready, we need to create the model\n",
        "\n",
        "def cnn_model(x):\n",
        "  \n",
        "  #creating the first layer\n",
        "  conv1 = convolution_2d(x,conv1_weight,conv1_bias)\n",
        "  conv1 = maxpool_2d(conv1)\n",
        "  \n",
        "  #creating the second layer\n",
        "  conv2 = convolution_2d(conv1,conv2_weight,conv2_bias)\n",
        "  conv2 = maxpool_2d(conv2)\n",
        "  \n",
        "  #creating the third layer\n",
        "  conv3 = convolution_2d(conv2,conv3_weight,conv3_bias)\n",
        "  conv3 = maxpool_2d(conv3)\n",
        "  \n",
        "  #we need to reshape the conv3 output to fit the fully connected layer\n",
        "  shape_fully_connected = flatten_weight.get_shape().as_list()[0]\n",
        "  \n",
        "  fully_connected = tf.reshape(conv3,[-1,shape_fully_connected])\n",
        "  fully_connected_output = fully_connected_layer(fully_connected, flatten_weight, flatten_bias)\n",
        "  \n",
        "  #Output Layer for the class prediction\n",
        "  output = output_layer(fully_connected_output, output_weight, output_bias)\n",
        "  \n",
        "  return output"
      ],
      "execution_count": 0,
      "outputs": []
    },
    {
      "metadata": {
        "id": "PVwFUMJeHe3Z",
        "colab_type": "code",
        "colab": {
          "base_uri": "https://localhost:8080/",
          "height": 171
        },
        "outputId": "34580add-2e0e-4a15-ccdf-2569a05fdb38"
      },
      "cell_type": "code",
      "source": [
        "#now we need to write the loss function for the model\n",
        "\n",
        "#learning rate\n",
        "learning_rate = 0.001\n",
        "\n",
        "prediction = cnn_model(x)\n",
        "\n",
        "#using cross entropy loss and softmax activation\n",
        "cost_function = tf.nn.softmax_cross_entropy_with_logits(logits=prediction, labels=y)\n",
        "\n",
        "#take the mean of all the samples in the batch\n",
        "cost = tf.reduce_mean(cost_function)\n",
        "\n",
        "#Using Adam Optimizer\n",
        "optimizer = tf.train.AdamOptimizer(learning_rate = learning_rate)\n",
        "optimizer = optimizer.minimize(cost)"
      ],
      "execution_count": 31,
      "outputs": [
        {
          "output_type": "stream",
          "text": [
            "WARNING:tensorflow:From <ipython-input-31-e3dc7825cc52>:6: softmax_cross_entropy_with_logits (from tensorflow.python.ops.nn_ops) is deprecated and will be removed in a future version.\n",
            "Instructions for updating:\n",
            "\n",
            "Future major versions of TensorFlow will allow gradients to flow\n",
            "into the labels input on backprop by default.\n",
            "\n",
            "See `tf.nn.softmax_cross_entropy_with_logits_v2`.\n",
            "\n"
          ],
          "name": "stdout"
        }
      ]
    },
    {
      "metadata": {
        "id": "FrYfWfQrHgxv",
        "colab_type": "code",
        "colab": {}
      },
      "cell_type": "code",
      "source": [
        "#check for the correctness of the prediction\n",
        "\n",
        "correct_prediction = tf.equal(tf.argmax(prediction,1), tf.argmax(y,1))\n",
        "\n",
        "#calculate over the entire batch\n",
        "\n",
        "accuracy = tf.reduce_mean(tf.cast(correct_prediction,tf.float32))"
      ],
      "execution_count": 0,
      "outputs": []
    },
    {
      "metadata": {
        "id": "7jABicA6Hvn9",
        "colab_type": "code",
        "colab": {}
      },
      "cell_type": "code",
      "source": [
        "#initialize weights and biases\n",
        "\n",
        "initializer = tf.global_variables_initializer()"
      ],
      "execution_count": 0,
      "outputs": []
    },
    {
      "metadata": {
        "id": "ne2evP0LHxn2",
        "colab_type": "code",
        "colab": {
          "base_uri": "https://localhost:8080/",
          "height": 34
        },
        "outputId": "97381791-fd5a-490f-8ee3-b39a76344c1b"
      },
      "cell_type": "code",
      "source": [
        "train_x.shape"
      ],
      "execution_count": 34,
      "outputs": [
        {
          "output_type": "execute_result",
          "data": {
            "text/plain": [
              "(60000, 28, 28, 3)"
            ]
          },
          "metadata": {
            "tags": []
          },
          "execution_count": 34
        }
      ]
    },
    {
      "metadata": {
        "id": "nxF9JRBzH3sb",
        "colab_type": "code",
        "colab": {
          "base_uri": "https://localhost:8080/",
          "height": 378
        },
        "outputId": "aa6afb5a-7dab-4bc7-f062-5da2419ea52e"
      },
      "cell_type": "code",
      "source": [
        "train1 = train_x[2]\n",
        "\n",
        "train1.shape\n",
        "train1 = rgb2gray(train1)\n",
        "output_label_new  = train_y[2]\n",
        "plt.imshow(train1)\n",
        "plt.title(\"Output Class is : \"+str(output_label_new))"
      ],
      "execution_count": 35,
      "outputs": [
        {
          "output_type": "execute_result",
          "data": {
            "text/plain": [
              "Text(0.5,1,'Output Class is : [0 0 0 0 1 0 0 0 0 0]')"
            ]
          },
          "metadata": {
            "tags": []
          },
          "execution_count": 35
        },
        {
          "output_type": "display_data",
          "data": {
            "image/png": "[encoded data removed]",
            "text/plain": [
              "<matplotlib.figure.Figure at 0x7f23cab2b048>"
            ]
          },
          "metadata": {
            "tags": []
          }
        }
      ]
    },
    {
      "metadata": {
        "id": "HmpFTsDGIG4V",
        "colab_type": "code",
        "colab": {}
      },
      "cell_type": "code",
      "source": [
        "number_of_epochs = 50\n",
        "number_of_batches = len(train_x)//batch_size"
      ],
      "execution_count": 0,
      "outputs": []
    },
    {
      "metadata": {
        "id": "7JpGmJZYJXpw",
        "colab_type": "code",
        "colab": {}
      },
      "cell_type": "code",
      "source": [
        "sess = tf.Session()\n",
        "\n",
        "#initialize all the global variables\n",
        "sess.run(initializer)"
      ],
      "execution_count": 0,
      "outputs": []
    },
    {
      "metadata": {
        "id": "D5XrmB7YI4bl",
        "colab_type": "code",
        "colab": {
          "base_uri": "https://localhost:8080/",
          "height": 857
        },
        "outputId": "8fa122ca-3c50-4990-a2b7-a274af50cf70"
      },
      "cell_type": "code",
      "source": [
        "#creating the arrays to record the loss and accuracy\n",
        "training_loss = []\n",
        "training_accuracy = []\n",
        "\n",
        "validation_losses = []\n",
        "validation_accuracies = []\n",
        "\n",
        "summary_writer = tf.summary.FileWriter('./Output', sess.graph)\n",
        "\n",
        "#loop over all the epochs\n",
        "\n",
        "for i in range(number_of_epochs):\n",
        "\n",
        "  #for each batch\n",
        "  train_loss = 0\n",
        "  train_accuracy = 0\n",
        "  for batch in range(number_of_batches):\n",
        "\n",
        "    #need to obtain corresponding x and y for the batch from the train data\n",
        "\n",
        "    lower_limit = batch*batch_size\n",
        "    upper_limit = min((batch+1)*batch_size,len(train_x))\n",
        "\n",
        "    batch_x = train_x[lower_limit:upper_limit]\n",
        "    batch_y = train_y[lower_limit:upper_limit]\n",
        "\n",
        "    #Run the optimizer and\n",
        "    #Calculate the loss and the accuracy\n",
        "    _, l_ ,acc_ = sess.run([optimizer, cost, accuracy],feed_dict={x: batch_x, y: batch_y})\n",
        "    train_loss += l_\n",
        "    train_accuracy += acc_\n",
        "\n",
        "  train_loss /= number_of_batches\n",
        "  train_accuracy /= number_of_batches\n",
        "\n",
        "\n",
        "  #For the validation data\n",
        "  validation_loss, validation_accuracy = sess.run([cost,accuracy],feed_dict={x: test_x, y: test_y})\n",
        "\n",
        "  print(\"Epoch: \",str(i),\" : TrainLoss: \",str(train_loss),\" TrainAccuracy: \",str(train_accuracy), \" ValidLoss: \",str(validation_loss),\" ValidAccuracy : \",str(validation_accuracy))\n",
        "\n",
        "\n",
        "  training_loss.append(train_loss)\n",
        "  training_accuracy.append(train_accuracy)\n",
        "\n",
        "  validation_losses.append(validation_loss)\n",
        "  validation_accuracies.append(validation_accuracy)\n",
        "\n",
        "  summary_writer.close() "
      ],
      "execution_count": 38,
      "outputs": [
        {
          "output_type": "stream",
          "text": [
            "Epoch:  0  : TrainLoss:  1.5315427408965592  TrainAccuracy:  0.8665865384615384  ValidLoss:  0.18677095  ValidAccuracy :  0.9491\n",
            "Epoch:  1  : TrainLoss:  0.13893339254258552  TrainAccuracy:  0.9611211271367521  ValidLoss:  0.11416033  ValidAccuracy :  0.9685\n",
            "Epoch:  2  : TrainLoss:  0.0787082099574409  TrainAccuracy:  0.9767127403846154  ValidLoss:  0.0963617  ValidAccuracy :  0.9729\n",
            "Epoch:  3  : TrainLoss:  0.05452628920509472  TrainAccuracy:  0.9837573450854701  ValidLoss:  0.08236299  ValidAccuracy :  0.9771\n",
            "Epoch:  4  : TrainLoss:  0.04286856503404901  TrainAccuracy:  0.9862947382478633  ValidLoss:  0.08049003  ValidAccuracy :  0.9775\n",
            "Epoch:  5  : TrainLoss:  0.03348948672771032  TrainAccuracy:  0.9892494658119658  ValidLoss:  0.08104488  ValidAccuracy :  0.9779\n",
            "Epoch:  6  : TrainLoss:  0.03391075185851135  TrainAccuracy:  0.9891993856837606  ValidLoss:  0.07831516  ValidAccuracy :  0.9804\n",
            "Epoch:  7  : TrainLoss:  0.02863546455149549  TrainAccuracy:  0.9905515491452992  ValidLoss:  0.06830155  ValidAccuracy :  0.9826\n",
            "Epoch:  8  : TrainLoss:  0.029490864553845003  TrainAccuracy:  0.9906684027777778  ValidLoss:  0.08095998  ValidAccuracy :  0.9801\n",
            "Epoch:  9  : TrainLoss:  0.026691239924318332  TrainAccuracy:  0.9912359775641025  ValidLoss:  0.059218273  ValidAccuracy :  0.9844\n",
            "Epoch:  10  : TrainLoss:  0.030262680908167684  TrainAccuracy:  0.9899338942307693  ValidLoss:  0.066475205  ValidAccuracy :  0.983\n",
            "Epoch:  11  : TrainLoss:  0.021894804524390372  TrainAccuracy:  0.9930054754273504  ValidLoss:  0.056163672  ValidAccuracy :  0.9852\n",
            "Epoch:  12  : TrainLoss:  0.031032461855718008  TrainAccuracy:  0.9898337339743589  ValidLoss:  0.05818925  ValidAccuracy :  0.985\n",
            "Epoch:  13  : TrainLoss:  0.02334652223898723  TrainAccuracy:  0.9920205662393162  ValidLoss:  0.04679672  ValidAccuracy :  0.9883\n",
            "Epoch:  14  : TrainLoss:  0.020802822366584275  TrainAccuracy:  0.9936231303418803  ValidLoss:  0.06686545  ValidAccuracy :  0.982\n",
            "Epoch:  15  : TrainLoss:  0.020986011759414086  TrainAccuracy:  0.9934395032051282  ValidLoss:  0.07107669  ValidAccuracy :  0.9818\n",
            "Epoch:  16  : TrainLoss:  0.020758079259840922  TrainAccuracy:  0.9936565170940171  ValidLoss:  0.078437515  ValidAccuracy :  0.9839\n",
            "Epoch:  17  : TrainLoss:  0.019992444244068878  TrainAccuracy:  0.9936398237179487  ValidLoss:  0.06957027  ValidAccuracy :  0.9831\n",
            "Epoch:  18  : TrainLoss:  0.018380508289469733  TrainAccuracy:  0.9942908653846154  ValidLoss:  0.07829241  ValidAccuracy :  0.9829\n",
            "Epoch:  19  : TrainLoss:  0.020214789748998478  TrainAccuracy:  0.9939236111111112  ValidLoss:  0.061366577  ValidAccuracy :  0.9878\n",
            "Epoch:  20  : TrainLoss:  0.018491969364785074  TrainAccuracy:  0.9943576388888888  ValidLoss:  0.081128985  ValidAccuracy :  0.9844\n",
            "Epoch:  21  : TrainLoss:  0.017062363674978622  TrainAccuracy:  0.9947248931623932  ValidLoss:  0.058303192  ValidAccuracy :  0.9875\n",
            "Epoch:  22  : TrainLoss:  0.012201824465804118  TrainAccuracy:  0.9961104433760684  ValidLoss:  0.05684855  ValidAccuracy :  0.9876\n",
            "Epoch:  23  : TrainLoss:  0.015235149973120653  TrainAccuracy:  0.9955261752136753  ValidLoss:  0.045731917  ValidAccuracy :  0.9881\n",
            "Epoch:  24  : TrainLoss:  0.015063563059115716  TrainAccuracy:  0.9953592414529915  ValidLoss:  0.05864487  ValidAccuracy :  0.9884\n",
            "Epoch:  25  : TrainLoss:  0.01382815428170057  TrainAccuracy:  0.9959268162393162  ValidLoss:  0.06582199  ValidAccuracy :  0.988\n",
            "Epoch:  26  : TrainLoss:  0.01838626786947215  TrainAccuracy:  0.9946414262820513  ValidLoss:  0.07720798  ValidAccuracy :  0.9855\n",
            "Epoch:  27  : TrainLoss:  0.011243153774213407  TrainAccuracy:  0.9963942307692307  ValidLoss:  0.091921166  ValidAccuracy :  0.9822\n",
            "Epoch:  28  : TrainLoss:  0.012003189241762273  TrainAccuracy:  0.9961605235042735  ValidLoss:  0.090249546  ValidAccuracy :  0.9834\n",
            "Epoch:  29  : TrainLoss:  0.014627267818262646  TrainAccuracy:  0.995826655982906  ValidLoss:  0.08403464  ValidAccuracy :  0.9871\n",
            "Epoch:  30  : TrainLoss:  0.01567496728348881  TrainAccuracy:  0.995559561965812  ValidLoss:  0.09735235  ValidAccuracy :  0.9851\n",
            "Epoch:  31  : TrainLoss:  0.012684153043117647  TrainAccuracy:  0.9965110844017094  ValidLoss:  0.09653188  ValidAccuracy :  0.986\n",
            "Epoch:  32  : TrainLoss:  0.012826028515245747  TrainAccuracy:  0.9962272970085471  ValidLoss:  0.08261854  ValidAccuracy :  0.9882\n",
            "Epoch:  33  : TrainLoss:  0.013498453602818521  TrainAccuracy:  0.9960102831196581  ValidLoss:  0.092162  ValidAccuracy :  0.9875\n",
            "Epoch:  34  : TrainLoss:  0.010951325279132295  TrainAccuracy:  0.9970452724358975  ValidLoss:  0.091149434  ValidAccuracy :  0.9867\n",
            "Epoch:  35  : TrainLoss:  0.013939091112978615  TrainAccuracy:  0.9961772168803419  ValidLoss:  0.078443795  ValidAccuracy :  0.988\n",
            "Epoch:  36  : TrainLoss:  0.009268106403211435  TrainAccuracy:  0.9972122061965812  ValidLoss:  0.089815535  ValidAccuracy :  0.9878\n",
            "Epoch:  37  : TrainLoss:  0.008656235479911569  TrainAccuracy:  0.9975961538461539  ValidLoss:  0.10917931  ValidAccuracy :  0.9865\n",
            "Epoch:  38  : TrainLoss:  0.013951795225476933  TrainAccuracy:  0.9961772168803419  ValidLoss:  0.077419005  ValidAccuracy :  0.9873\n",
            "Epoch:  39  : TrainLoss:  0.010224122026740176  TrainAccuracy:  0.9969784989316239  ValidLoss:  0.12677327  ValidAccuracy :  0.9847\n",
            "Epoch:  40  : TrainLoss:  0.012354944809715478  TrainAccuracy:  0.9970953525641025  ValidLoss:  0.08008658  ValidAccuracy :  0.9884\n",
            "Epoch:  41  : TrainLoss:  0.011040262250996096  TrainAccuracy:  0.9970118856837606  ValidLoss:  0.08890599  ValidAccuracy :  0.9881\n",
            "Epoch:  42  : TrainLoss:  0.010390791944864019  TrainAccuracy:  0.9970285790598291  ValidLoss:  0.10904726  ValidAccuracy :  0.9882\n",
            "Epoch:  43  : TrainLoss:  0.017241681633216502  TrainAccuracy:  0.9962272970085471  ValidLoss:  0.08961368  ValidAccuracy :  0.9876\n",
            "Epoch:  44  : TrainLoss:  0.012114471624776952  TrainAccuracy:  0.9970118856837606  ValidLoss:  0.11031101  ValidAccuracy :  0.9867\n",
            "Epoch:  45  : TrainLoss:  0.005037448900752552  TrainAccuracy:  0.9984308226495726  ValidLoss:  0.08643479  ValidAccuracy :  0.9892\n",
            "Epoch:  46  : TrainLoss:  0.009205552799024611  TrainAccuracy:  0.9976295405982906  ValidLoss:  0.08941547  ValidAccuracy :  0.9905\n",
            "Epoch:  47  : TrainLoss:  0.013789089484848086  TrainAccuracy:  0.9968282585470085  ValidLoss:  0.09300451  ValidAccuracy :  0.9907\n",
            "Epoch:  48  : TrainLoss:  0.008955016933220698  TrainAccuracy:  0.9980134882478633  ValidLoss:  0.11071384  ValidAccuracy :  0.9883\n",
            "Epoch:  49  : TrainLoss:  0.01069205294013374  TrainAccuracy:  0.9975293803418803  ValidLoss:  0.15975808  ValidAccuracy :  0.9858\n"
          ],
          "name": "stdout"
        }
      ]
    },
    {
      "metadata": {
        "id": "tq1TRUoXNKc7",
        "colab_type": "code",
        "colab": {
          "base_uri": "https://localhost:8080/",
          "height": 34
        },
        "outputId": "ea6a1771-072b-4b51-a994-74a51b24d767"
      },
      "cell_type": "code",
      "source": [
        "test_x.shape"
      ],
      "execution_count": 39,
      "outputs": [
        {
          "output_type": "execute_result",
          "data": {
            "text/plain": [
              "(10000, 28, 28, 3)"
            ]
          },
          "metadata": {
            "tags": []
          },
          "execution_count": 39
        }
      ]
    },
    {
      "metadata": {
        "id": "mFZb22JRJJRg",
        "colab_type": "code",
        "colab": {
          "base_uri": "https://localhost:8080/",
          "height": 857
        },
        "outputId": "43b6aaad-e7f9-47a1-b5f0-14f2581e47b1"
      },
      "cell_type": "code",
      "source": [
        "#Make predictions\n",
        "for i in range(100,150):\n",
        "  img = np.reshape(rgb2gray(test_x[i]), (28,28))\n",
        "  # plt.imshow(img)\n",
        "  img = np.reshape(img, (1,28,28,1))\n",
        "  result = cnn_model(test_x[i].reshape(-1,28,28,3).astype(np.float32))\n",
        "\n",
        "  pred = np.array(sess.run(tf.nn.softmax(result))[0])\n",
        "  pred = np.argmax(pred)\n",
        "  output = np.argmax(test_y[i])\n",
        "  print(\"Predicted: {}, Output: {}\".format(pred, output))"
      ],
      "execution_count": 40,
      "outputs": [
        {
          "output_type": "stream",
          "text": [
            "Predicted: 6, Output: 6\n",
            "Predicted: 0, Output: 0\n",
            "Predicted: 5, Output: 5\n",
            "Predicted: 4, Output: 4\n",
            "Predicted: 9, Output: 9\n",
            "Predicted: 9, Output: 9\n",
            "Predicted: 2, Output: 2\n",
            "Predicted: 1, Output: 1\n",
            "Predicted: 9, Output: 9\n",
            "Predicted: 4, Output: 4\n",
            "Predicted: 8, Output: 8\n",
            "Predicted: 7, Output: 7\n",
            "Predicted: 3, Output: 3\n",
            "Predicted: 9, Output: 9\n",
            "Predicted: 7, Output: 7\n",
            "Predicted: 4, Output: 4\n",
            "Predicted: 4, Output: 4\n",
            "Predicted: 4, Output: 4\n",
            "Predicted: 9, Output: 9\n",
            "Predicted: 2, Output: 2\n",
            "Predicted: 5, Output: 5\n",
            "Predicted: 4, Output: 4\n",
            "Predicted: 7, Output: 7\n",
            "Predicted: 6, Output: 6\n",
            "Predicted: 7, Output: 7\n",
            "Predicted: 9, Output: 9\n",
            "Predicted: 0, Output: 0\n",
            "Predicted: 5, Output: 5\n",
            "Predicted: 8, Output: 8\n",
            "Predicted: 5, Output: 5\n",
            "Predicted: 6, Output: 6\n",
            "Predicted: 6, Output: 6\n",
            "Predicted: 5, Output: 5\n",
            "Predicted: 7, Output: 7\n",
            "Predicted: 8, Output: 8\n",
            "Predicted: 1, Output: 1\n",
            "Predicted: 0, Output: 0\n",
            "Predicted: 1, Output: 1\n",
            "Predicted: 6, Output: 6\n",
            "Predicted: 4, Output: 4\n",
            "Predicted: 6, Output: 6\n",
            "Predicted: 7, Output: 7\n",
            "Predicted: 3, Output: 3\n",
            "Predicted: 1, Output: 1\n",
            "Predicted: 7, Output: 7\n",
            "Predicted: 1, Output: 1\n",
            "Predicted: 8, Output: 8\n",
            "Predicted: 2, Output: 2\n",
            "Predicted: 0, Output: 0\n",
            "Predicted: 2, Output: 2\n"
          ],
          "name": "stdout"
        }
      ]
    },
    {
      "metadata": {
        "id": "CuCfSr5IXFBx",
        "colab_type": "code",
        "colab": {}
      },
      "cell_type": "code",
      "source": [
        "#Calculating the Metrics for the Model"
      ],
      "execution_count": 0,
      "outputs": []
    },
    {
      "metadata": {
        "id": "n7enTKDQXIgn",
        "colab_type": "code",
        "colab": {}
      },
      "cell_type": "code",
      "source": [
        "true_positive = 0\n",
        "true_negative = 0\n",
        "false_positive = 0\n",
        "false_negative = 0"
      ],
      "execution_count": 0,
      "outputs": []
    },
    {
      "metadata": {
        "id": "2gaZ5uYlX2cL",
        "colab_type": "code",
        "colab": {}
      },
      "cell_type": "code",
      "source": [
        "actual_values = []\n",
        "predicted_values = []"
      ],
      "execution_count": 0,
      "outputs": []
    },
    {
      "metadata": {
        "id": "yHSF3m9rXcd5",
        "colab_type": "code",
        "colab": {}
      },
      "cell_type": "code",
      "source": [
        "i = 0\n",
        "#Make predictions\n",
        "test_set = test_x[0:100]\n",
        "\n",
        "for test_image in test_set:\n",
        "  img = np.reshape(rgb2gray(test_image), (28,28))\n",
        "  # plt.imshow(img)\n",
        "  img = np.reshape(img, (1,28,28,1))\n",
        "  result = cnn_model(test_image.reshape(-1,28,28,3).astype(np.float32))\n",
        "  pred = np.array(sess.run(tf.nn.softmax(result))[0])\n",
        "  pred = np.argmax(pred)\n",
        "  output = np.argmax(test_y[i])\n",
        "  i+=1\n",
        "  actual_values.append(output)\n",
        "  predicted_values.append(pred)\n",
        "  print(\"Predicted: {}, Output: {}\".format(pred, output))"
      ],
      "execution_count": 0,
      "outputs": []
    },
    {
      "metadata": {
        "id": "sBHeGIXUbuJI",
        "colab_type": "code",
        "colab": {
          "base_uri": "https://localhost:8080/",
          "height": 34
        },
        "outputId": "bd036185-eeda-458d-a692-dfa47ec0351a"
      },
      "cell_type": "code",
      "source": [
        "np.array(actual_values).shape"
      ],
      "execution_count": 200,
      "outputs": [
        {
          "output_type": "execute_result",
          "data": {
            "text/plain": [
              "(100,)"
            ]
          },
          "metadata": {
            "tags": []
          },
          "execution_count": 200
        }
      ]
    },
    {
      "metadata": {
        "id": "CqBnMoRjbzGA",
        "colab_type": "code",
        "colab": {
          "base_uri": "https://localhost:8080/",
          "height": 34
        },
        "outputId": "f986f76f-1a4b-42db-c668-177eb0883851"
      },
      "cell_type": "code",
      "source": [
        "np.array(predicted_values).shape"
      ],
      "execution_count": 201,
      "outputs": [
        {
          "output_type": "execute_result",
          "data": {
            "text/plain": [
              "(100,)"
            ]
          },
          "metadata": {
            "tags": []
          },
          "execution_count": 201
        }
      ]
    },
    {
      "metadata": {
        "id": "BqxrzO-zeJeX",
        "colab_type": "code",
        "colab": {
          "base_uri": "https://localhost:8080/",
          "height": 34
        },
        "outputId": "bb819549-b457-4384-d71e-c42e79d50141"
      },
      "cell_type": "code",
      "source": [
        "number_correct = 0\n",
        "for i in range(len(predicted_values)):\n",
        "  if(predicted_values[i]==actual_values[i]):\n",
        "    number_correct +=1\n",
        "print(\"Accurcay is : \",number_correct/len(predicted_values))"
      ],
      "execution_count": 202,
      "outputs": [
        {
          "output_type": "stream",
          "text": [
            "Accurcay is :  0.99\n"
          ],
          "name": "stdout"
        }
      ]
    },
    {
      "metadata": {
        "id": "57QKOplAdxnf",
        "colab_type": "code",
        "colab": {}
      },
      "cell_type": "code",
      "source": [
        "from sklearn.metrics import f1_score"
      ],
      "execution_count": 0,
      "outputs": []
    },
    {
      "metadata": {
        "id": "UwuiG8ATd1A7",
        "colab_type": "code",
        "colab": {
          "base_uri": "https://localhost:8080/",
          "height": 34
        },
        "outputId": "a452f983-633b-45e5-a96f-ed1d288907f4"
      },
      "cell_type": "code",
      "source": [
        "f1score = f1_score(actual_values,predicted_values,average='weighted')\n",
        "\n",
        "print(\"F1 Score is : \",f1score)"
      ],
      "execution_count": 205,
      "outputs": [
        {
          "output_type": "stream",
          "text": [
            "F1 Score is :  0.9899231950844853\n"
          ],
          "name": "stdout"
        }
      ]
    },
    {
      "metadata": {
        "id": "iLwo5OhXfxXQ",
        "colab_type": "code",
        "colab": {}
      },
      "cell_type": "code",
      "source": [
        "from sklearn.metrics import recall_score"
      ],
      "execution_count": 0,
      "outputs": []
    },
    {
      "metadata": {
        "id": "lbWQipeDf0aC",
        "colab_type": "code",
        "colab": {
          "base_uri": "https://localhost:8080/",
          "height": 34
        },
        "outputId": "da8c35c9-f6e6-4a30-aa21-269aaf768edf"
      },
      "cell_type": "code",
      "source": [
        "recall = recall_score(actual_values,predicted_values,average = 'weighted')\n",
        "\n",
        "print(\"Recall Score is : \",recall)"
      ],
      "execution_count": 209,
      "outputs": [
        {
          "output_type": "stream",
          "text": [
            "Recall Score is :  0.99\n"
          ],
          "name": "stdout"
        }
      ]
    },
    {
      "metadata": {
        "id": "7ZnB5mzXgI92",
        "colab_type": "code",
        "colab": {}
      },
      "cell_type": "code",
      "source": [
        "from sklearn.metrics import precision_score"
      ],
      "execution_count": 0,
      "outputs": []
    },
    {
      "metadata": {
        "id": "VmBGVdTzgL8l",
        "colab_type": "code",
        "colab": {
          "base_uri": "https://localhost:8080/",
          "height": 34
        },
        "outputId": "b78af619-b7d5-4a40-97fe-e0fe86195281"
      },
      "cell_type": "code",
      "source": [
        "precision = precision_score(actual_values,predicted_values,average = 'weighted')\n",
        "\n",
        "print(\"Precision Score is : \",precision)"
      ],
      "execution_count": 211,
      "outputs": [
        {
          "output_type": "stream",
          "text": [
            "Precision Score is :  0.990625\n"
          ],
          "name": "stdout"
        }
      ]
    },
    {
      "metadata": {
        "id": "vNCth0RAM8l1",
        "colab_type": "code",
        "colab": {
          "base_uri": "https://localhost:8080/",
          "height": 440
        },
        "outputId": "b502e5a6-a850-4eff-b314-cefb64fb3686"
      },
      "cell_type": "code",
      "source": [
        "!pip install lime"
      ],
      "execution_count": 41,
      "outputs": [
        {
          "output_type": "stream",
          "text": [
            "Collecting lime\n",
            "\u001b[?25l  Downloading https://files.pythonhosted.org/packages/28/59/8342382ba3301ec02a9d1a30a6d9d9c19484344a9201c5c3d83295332d44/lime-0.1.1.32.tar.gz (266kB)\n",
            "\u001b[K    100% |████████████████████████████████| 276kB 7.5MB/s \n",
            "\u001b[?25hRequirement already satisfied: numpy in /usr/local/lib/python3.6/dist-packages (from lime) (1.14.6)\n",
            "Requirement already satisfied: scipy in /usr/local/lib/python3.6/dist-packages (from lime) (1.1.0)\n",
            "Requirement already satisfied: scikit-learn>=0.18 in /usr/local/lib/python3.6/dist-packages (from lime) (0.20.2)\n",
            "Requirement already satisfied: scikit-image>=0.12 in /usr/local/lib/python3.6/dist-packages (from lime) (0.13.1)\n",
            "Requirement already satisfied: pillow>=2.1.0 in /usr/local/lib/python3.6/dist-packages (from scikit-image>=0.12->lime) (4.0.0)\n",
            "Requirement already satisfied: networkx>=1.8 in /usr/local/lib/python3.6/dist-packages (from scikit-image>=0.12->lime) (2.2)\n",
            "Requirement already satisfied: six>=1.7.3 in /usr/local/lib/python3.6/dist-packages (from scikit-image>=0.12->lime) (1.11.0)\n",
            "Requirement already satisfied: PyWavelets>=0.4.0 in /usr/local/lib/python3.6/dist-packages (from scikit-image>=0.12->lime) (1.0.1)\n",
            "Requirement already satisfied: matplotlib>=1.3.1 in /usr/local/lib/python3.6/dist-packages (from scikit-image>=0.12->lime) (2.1.2)\n",
            "Requirement already satisfied: olefile in /usr/local/lib/python3.6/dist-packages (from pillow>=2.1.0->scikit-image>=0.12->lime) (0.46)\n",
            "Requirement already satisfied: decorator>=4.3.0 in /usr/local/lib/python3.6/dist-packages (from networkx>=1.8->scikit-image>=0.12->lime) (4.3.0)\n",
            "Requirement already satisfied: pyparsing!=2.0.4,!=2.1.2,!=2.1.6,>=2.0.1 in /usr/local/lib/python3.6/dist-packages (from matplotlib>=1.3.1->scikit-image>=0.12->lime) (2.3.0)\n",
            "Requirement already satisfied: pytz in /usr/local/lib/python3.6/dist-packages (from matplotlib>=1.3.1->scikit-image>=0.12->lime) (2018.9)\n",
            "Requirement already satisfied: python-dateutil>=2.1 in /usr/local/lib/python3.6/dist-packages (from matplotlib>=1.3.1->scikit-image>=0.12->lime) (2.5.3)\n",
            "Requirement already satisfied: cycler>=0.10 in /usr/local/lib/python3.6/dist-packages (from matplotlib>=1.3.1->scikit-image>=0.12->lime) (0.10.0)\n",
            "Building wheels for collected packages: lime\n",
            "  Running setup.py bdist_wheel for lime ... \u001b[?25l-\b \b\\\b \bdone\n",
            "\u001b[?25h  Stored in directory: /root/.cache/pip/wheels/48/13/7c/20792e4efe5fd04237c0ac92bc8551acfe36392e09953ac8ea\n",
            "Successfully built lime\n",
            "Installing collected packages: lime\n",
            "Successfully installed lime-0.1.1.32\n"
          ],
          "name": "stdout"
        }
      ]
    },
    {
      "metadata": {
        "id": "MtHChJ0fNdDo",
        "colab_type": "code",
        "colab": {}
      },
      "cell_type": "code",
      "source": [
        "import lime\n",
        "from lime import lime_image"
      ],
      "execution_count": 0,
      "outputs": []
    },
    {
      "metadata": {
        "id": "IWQNk2UPNgT9",
        "colab_type": "code",
        "colab": {}
      },
      "cell_type": "code",
      "source": [
        "def prediction_function(x):\n",
        "  result = cnn_model(x.reshape(-1,28,28,3).astype(np.float32))\n",
        "  return sess.run(tf.nn.softmax(result))"
      ],
      "execution_count": 0,
      "outputs": []
    },
    {
      "metadata": {
        "id": "1uyxtigQNmaU",
        "colab_type": "code",
        "colab": {}
      },
      "cell_type": "code",
      "source": [
        "explainer = lime_image.LimeImageExplainer()"
      ],
      "execution_count": 0,
      "outputs": []
    },
    {
      "metadata": {
        "id": "jvoeCVYgNoNj",
        "colab_type": "code",
        "colab": {
          "base_uri": "https://localhost:8080/",
          "height": 34
        },
        "outputId": "0f727be3-04a2-4d1f-a548-81605d0580e4"
      },
      "cell_type": "code",
      "source": [
        "test_sample = test_x[215]\n",
        "test_sample_for_model = np.reshape(rgb2gray(test_sample),(-1,28,28,1))\n",
        "test_sample = np.reshape(test_sample_for_model,(28,28))\n",
        "print(test_sample.shape)"
      ],
      "execution_count": 121,
      "outputs": [
        {
          "output_type": "stream",
          "text": [
            "(28, 28)\n"
          ],
          "name": "stdout"
        }
      ]
    },
    {
      "metadata": {
        "id": "LhpDkLtNNw_b",
        "colab_type": "code",
        "colab": {
          "base_uri": "https://localhost:8080/",
          "height": 364
        },
        "outputId": "ced8d3a1-b828-4be2-e136-9a581b4d9e85"
      },
      "cell_type": "code",
      "source": [
        "plt.imshow(test_sample)"
      ],
      "execution_count": 122,
      "outputs": [
        {
          "output_type": "execute_result",
          "data": {
            "text/plain": [
              "<matplotlib.image.AxesImage at 0x7f239a0a34a8>"
            ]
          },
          "metadata": {
            "tags": []
          },
          "execution_count": 122
        },
        {
          "output_type": "display_data",
          "data": {
            "image/png": "[encoded data removed]",
            "text/plain": [
              "<matplotlib.figure.Figure at 0x7f239a149198>"
            ]
          },
          "metadata": {
            "tags": []
          }
        }
      ]
    },
    {
      "metadata": {
        "id": "ATBplq83ODpT",
        "colab_type": "code",
        "colab": {}
      },
      "cell_type": "code",
      "source": [
        "from lime.wrappers.scikit_image import SegmentationAlgorithm"
      ],
      "execution_count": 0,
      "outputs": []
    },
    {
      "metadata": {
        "id": "MfArF2_cOGj4",
        "colab_type": "code",
        "colab": {}
      },
      "cell_type": "code",
      "source": [
        "segmenter = SegmentationAlgorithm('quickshift', kernel_size=1, max_dist=200, ratio=0.2)"
      ],
      "execution_count": 0,
      "outputs": []
    },
    {
      "metadata": {
        "id": "6SyIwJxTN4zN",
        "colab_type": "code",
        "colab": {}
      },
      "cell_type": "code",
      "source": [
        "explanation = explainer.explain_instance(test_x[0], \n",
        "                                         classifier_fn = prediction_function, \n",
        "                                         top_labels=10, hide_color=0, num_samples=100, segmentation_fn=segmenter)"
      ],
      "execution_count": 0,
      "outputs": []
    },
    {
      "metadata": {
        "id": "6VtVbd6bNTYD",
        "colab_type": "code",
        "colab": {
          "base_uri": "https://localhost:8080/",
          "height": 34
        },
        "outputId": "c9e4e586-c713-4998-ac81-267e615b8221"
      },
      "cell_type": "code",
      "source": [
        "sample_test_input = test_x[0]\n",
        "sample_test_input.shape"
      ],
      "execution_count": 126,
      "outputs": [
        {
          "output_type": "execute_result",
          "data": {
            "text/plain": [
              "(28, 28, 3)"
            ]
          },
          "metadata": {
            "tags": []
          },
          "execution_count": 126
        }
      ]
    },
    {
      "metadata": {
        "id": "P_osyb5rNaba",
        "colab_type": "code",
        "colab": {
          "base_uri": "https://localhost:8080/",
          "height": 364
        },
        "outputId": "59dfaac3-7538-4b2b-a067-795410e7fd5e"
      },
      "cell_type": "code",
      "source": [
        "plt.imshow(np.reshape(rgb2gray(sample_test_input),(28,28)))"
      ],
      "execution_count": 127,
      "outputs": [
        {
          "output_type": "execute_result",
          "data": {
            "text/plain": [
              "<matplotlib.image.AxesImage at 0x7f2399ec9e80>"
            ]
          },
          "metadata": {
            "tags": []
          },
          "execution_count": 127
        },
        {
          "output_type": "display_data",
          "data": {
            "image/png": "[encoded data removed]",
            "text/plain": [
              "<matplotlib.figure.Figure at 0x7f239a134e80>"
            ]
          },
          "metadata": {
            "tags": []
          }
        }
      ]
    },
    {
      "metadata": {
        "id": "Jsk0me1-OIQi",
        "colab_type": "code",
        "colab": {
          "base_uri": "https://localhost:8080/",
          "height": 34
        },
        "outputId": "b8d30c3c-37a1-4847-df87-f8441913e2de"
      },
      "cell_type": "code",
      "source": [
        "output = np.argmax(test_y[0])\n",
        "output"
      ],
      "execution_count": 128,
      "outputs": [
        {
          "output_type": "execute_result",
          "data": {
            "text/plain": [
              "7"
            ]
          },
          "metadata": {
            "tags": []
          },
          "execution_count": 128
        }
      ]
    },
    {
      "metadata": {
        "id": "ckPOrOlKjRgL",
        "colab_type": "code",
        "colab": {
          "base_uri": "https://localhost:8080/",
          "height": 216
        },
        "outputId": "3e90b360-af32-4676-e442-c2173d0143d2"
      },
      "cell_type": "code",
      "source": [
        "temp, mask = explanation.get_image_and_mask(output, positive_only=True, num_features=10, hide_rest=False, min_weight = 0.01)\n",
        "fig= plt.figure()\n",
        "(ax1) = fig.add_subplot(2,1,1)\n",
        "ax1.imshow(label2rgb(mask,temp, bg_label = 0), interpolation = 'nearest')\n",
        "ax1.set_title('Positive Regions for {}'.format(output))"
      ],
      "execution_count": 129,
      "outputs": [
        {
          "output_type": "execute_result",
          "data": {
            "text/plain": [
              "Text(0.5,1,'Positive Regions for 7')"
            ]
          },
          "metadata": {
            "tags": []
          },
          "execution_count": 129
        },
        {
          "output_type": "display_data",
          "data": {
            "image/png": "[encoded data removed]",
            "text/plain": [
              "<matplotlib.figure.Figure at 0x7f239a0c1a90>"
            ]
          },
          "metadata": {
            "tags": []
          }
        }
      ]
    },
    {
      "metadata": {
        "id": "YBGLDrHvSwTv",
        "colab_type": "code",
        "colab": {}
      },
      "cell_type": "code",
      "source": [
        "fig.savefig(\"sample_input_explanation.jpeg\")"
      ],
      "execution_count": 0,
      "outputs": []
    },
    {
      "metadata": {
        "id": "SvetuUNsNxC3",
        "colab_type": "code",
        "colab": {
          "base_uri": "https://localhost:8080/",
          "height": 378
        },
        "outputId": "8b26207f-ba51-4f7e-8fc4-0f80c8f78c60"
      },
      "cell_type": "code",
      "source": [
        "temp1, mask1 = explanation.get_image_and_mask(output, positive_only=False, num_features=10, hide_rest=False, min_weight = 0.01)\n",
        "(ax2) = plt.subplot()\n",
        "ax2.imshow(label2rgb(mask1,temp1, bg_label = 0), interpolation = 'nearest')\n",
        "ax2.set_title('Positive and Negative Regions for {}'.format(output))"
      ],
      "execution_count": 131,
      "outputs": [
        {
          "output_type": "execute_result",
          "data": {
            "text/plain": [
              "Text(0.5,1,'Positive and Negative Regions for 7')"
            ]
          },
          "metadata": {
            "tags": []
          },
          "execution_count": 131
        },
        {
          "output_type": "display_data",
          "data": {
            "image/png": "[encoded data removed]",
            "text/plain": [
              "<matplotlib.figure.Figure at 0x7f2399eba828>"
            ]
          },
          "metadata": {
            "tags": []
          }
        }
      ]
    },
    {
      "metadata": {
        "id": "7b8uMgGrRG50",
        "colab_type": "code",
        "colab": {}
      },
      "cell_type": "code",
      "source": [
        "def add_noise(image):\n",
        "  row,col,ch = image.shape\n",
        "  s_vs_p = 0.5\n",
        "  amount = 0.01\n",
        "  out = np.copy(image)\n",
        "  # Salt mode\n",
        "  num_salt = np.ceil(amount * image.size * s_vs_p)\n",
        "  coords = [np.random.randint(0, i - 1, int(num_salt))\n",
        "          for i in image.shape]\n",
        "  out[coords] = 1\n",
        "\n",
        "  # Pepper mode\n",
        "  num_pepper = np.ceil(amount* image.size * (1. - s_vs_p))\n",
        "  coords = [np.random.randint(0, i - 1, int(num_pepper))\n",
        "          for i in image.shape]\n",
        "  out[coords] = 0\n",
        "  return out"
      ],
      "execution_count": 0,
      "outputs": []
    },
    {
      "metadata": {
        "id": "fVLJWLdlRM37",
        "colab_type": "code",
        "colab": {}
      },
      "cell_type": "code",
      "source": [
        "noisy_input = add_noise(sample_test_input)"
      ],
      "execution_count": 0,
      "outputs": []
    },
    {
      "metadata": {
        "id": "KTtiTXaxReHX",
        "colab_type": "code",
        "colab": {
          "base_uri": "https://localhost:8080/",
          "height": 34
        },
        "outputId": "aed01e65-bfb2-4d0d-82a3-86183ee6c258"
      },
      "cell_type": "code",
      "source": [
        "noisy_input.shape"
      ],
      "execution_count": 134,
      "outputs": [
        {
          "output_type": "execute_result",
          "data": {
            "text/plain": [
              "(28, 28, 3)"
            ]
          },
          "metadata": {
            "tags": []
          },
          "execution_count": 134
        }
      ]
    },
    {
      "metadata": {
        "id": "hFU5O7mMRf2Y",
        "colab_type": "code",
        "colab": {
          "base_uri": "https://localhost:8080/",
          "height": 364
        },
        "outputId": "5349f686-a9e9-41dd-bae1-70edf3685f41"
      },
      "cell_type": "code",
      "source": [
        "plt.imshow(np.reshape(rgb2gray(noisy_input),(28,28)))"
      ],
      "execution_count": 135,
      "outputs": [
        {
          "output_type": "execute_result",
          "data": {
            "text/plain": [
              "<matplotlib.image.AxesImage at 0x7f2399de51d0>"
            ]
          },
          "metadata": {
            "tags": []
          },
          "execution_count": 135
        },
        {
          "output_type": "display_data",
          "data": {
            "image/png": "[encoded data removed]",
            "text/plain": [
              "<matplotlib.figure.Figure at 0x7f2399e6bf60>"
            ]
          },
          "metadata": {
            "tags": []
          }
        }
      ]
    },
    {
      "metadata": {
        "id": "FMwYF2X7Rj1Z",
        "colab_type": "code",
        "colab": {}
      },
      "cell_type": "code",
      "source": [
        "from skimage.measure import structural_similarity as ssim\n",
        "import cv2"
      ],
      "execution_count": 0,
      "outputs": []
    },
    {
      "metadata": {
        "id": "oYT3v0KqR8iN",
        "colab_type": "code",
        "colab": {}
      },
      "cell_type": "code",
      "source": [
        "def mse(imageA, imageB):\n",
        "\t# the 'Mean Squared Error' between the two images is the\n",
        "\t# sum of the squared difference between the two images;\n",
        "\t# NOTE: the two images must have the same dimension\n",
        "\terr = np.sum((imageA.astype(\"float\") - imageB.astype(\"float\")) ** 2)\n",
        "\terr /= float(imageA.shape[0] * imageA.shape[1])\n",
        "\t\n",
        "\t# return the MSE, the lower the error, the more \"similar\"\n",
        "\t# the two images are\n",
        "\treturn err\n",
        "\n",
        "def compare_images(imageA, imageB, title):\n",
        "  # compute the mean squared error and structural similarity\n",
        "  # index for the images\n",
        "  m = mse(imageA, imageB)\n",
        "  s = ssim(imageA, imageB,multichannel=True)\n",
        "\n",
        "  # setup the figure\n",
        "  fig = plt.figure(title)\n",
        "  plt.suptitle(\"MSE: %.2f, SSIM: %.2f\" % (m, s))\n",
        "\n",
        "  # show first image\n",
        "  ax = fig.add_subplot(1, 2, 1)\n",
        "  plt.imshow(imageA, cmap = plt.cm.gray)\n",
        "  plt.axis(\"off\")\n",
        "\n",
        "  # show the second image\n",
        "  ax = fig.add_subplot(1, 2, 2)\n",
        "  plt.imshow(imageB, cmap = plt.cm.gray)\n",
        "  plt.axis(\"off\")\n",
        "\n",
        "  # show the images\n",
        "  plt.show() \n",
        "  return m,s"
      ],
      "execution_count": 0,
      "outputs": []
    },
    {
      "metadata": {
        "id": "w0bnXCuoSGGH",
        "colab_type": "code",
        "colab": {
          "base_uri": "https://localhost:8080/",
          "height": 391
        },
        "outputId": "d28ab0cd-b058-406f-d3a1-d0ea740ceb59"
      },
      "cell_type": "code",
      "source": [
        "mse1,s1 = compare_images(sample_test_input,noisy_input,\"Image Difference\")"
      ],
      "execution_count": 150,
      "outputs": [
        {
          "output_type": "stream",
          "text": [
            "/usr/local/lib/python3.6/dist-packages/skimage/measure/_structural_similarity.py:234: skimage_deprecation: Function ``structural_similarity`` is deprecated and will be removed in version 0.14. Use ``compare_ssim`` instead.\n",
            "  def structural_similarity(X, Y, win_size=None, gradient=False,\n"
          ],
          "name": "stderr"
        },
        {
          "output_type": "display_data",
          "data": {
            "image/png": "[encoded data removed]",
            "text/plain": [
              "<matplotlib.figure.Figure at 0x7f2399af55f8>"
            ]
          },
          "metadata": {
            "tags": []
          }
        }
      ]
    },
    {
      "metadata": {
        "id": "mhb0gTHHSOkE",
        "colab_type": "code",
        "colab": {}
      },
      "cell_type": "code",
      "source": [
        "explanation = explainer.explain_instance(noisy_input, \n",
        "                                         classifier_fn = prediction_function, \n",
        "                                         top_labels=10, hide_color=0, num_samples=100, segmentation_fn=segmenter)"
      ],
      "execution_count": 0,
      "outputs": []
    },
    {
      "metadata": {
        "id": "J68J2wm_TdAb",
        "colab_type": "code",
        "colab": {
          "base_uri": "https://localhost:8080/",
          "height": 216
        },
        "outputId": "9ec95bc6-cdc0-4136-ae1a-02043fbf565d"
      },
      "cell_type": "code",
      "source": [
        "temp, mask = explanation.get_image_and_mask(output, positive_only=True, num_features=10, hide_rest=False, min_weight = 0.01)\n",
        "fig= plt.figure()\n",
        "(ax1) = fig.add_subplot(2,1,1)\n",
        "ax1.imshow(label2rgb(mask,temp, bg_label = 0), interpolation = 'nearest')\n",
        "ax1.set_title('Positive Regions for {}'.format(output))"
      ],
      "execution_count": 152,
      "outputs": [
        {
          "output_type": "execute_result",
          "data": {
            "text/plain": [
              "Text(0.5,1,'Positive Regions for 7')"
            ]
          },
          "metadata": {
            "tags": []
          },
          "execution_count": 152
        },
        {
          "output_type": "display_data",
          "data": {
            "image/png": "[encoded data removed]",
            "text/plain": [
              "<matplotlib.figure.Figure at 0x7f2399a4fc88>"
            ]
          },
          "metadata": {
            "tags": []
          }
        }
      ]
    },
    {
      "metadata": {
        "id": "SAlxjfDhTntr",
        "colab_type": "code",
        "colab": {}
      },
      "cell_type": "code",
      "source": [
        "fig.savefig(\"noisy_input_explanation.jpeg\")"
      ],
      "execution_count": 0,
      "outputs": []
    },
    {
      "metadata": {
        "id": "qF2xHvt8UDvG",
        "colab_type": "code",
        "colab": {}
      },
      "cell_type": "code",
      "source": [
        "img = cv2.imread('noisy_input_explanation.jpeg')"
      ],
      "execution_count": 0,
      "outputs": []
    },
    {
      "metadata": {
        "id": "rammWHVzUG1G",
        "colab_type": "code",
        "colab": {
          "base_uri": "https://localhost:8080/",
          "height": 34
        },
        "outputId": "04d0a5f4-edee-41cd-b58a-299c6a3eb06a"
      },
      "cell_type": "code",
      "source": [
        "img.shape"
      ],
      "execution_count": 155,
      "outputs": [
        {
          "output_type": "execute_result",
          "data": {
            "text/plain": [
              "(396, 576, 3)"
            ]
          },
          "metadata": {
            "tags": []
          },
          "execution_count": 155
        }
      ]
    },
    {
      "metadata": {
        "id": "Cs1FzzwCUIOI",
        "colab_type": "code",
        "colab": {}
      },
      "cell_type": "code",
      "source": [
        "img2 = cv2.imread('sample_input_explanation.jpeg')"
      ],
      "execution_count": 0,
      "outputs": []
    },
    {
      "metadata": {
        "id": "r2jOTDF5UMGq",
        "colab_type": "code",
        "colab": {
          "base_uri": "https://localhost:8080/",
          "height": 34
        },
        "outputId": "c9905d82-23fb-47ad-81fe-181d5b164560"
      },
      "cell_type": "code",
      "source": [
        "img2.shape"
      ],
      "execution_count": 157,
      "outputs": [
        {
          "output_type": "execute_result",
          "data": {
            "text/plain": [
              "(396, 576, 3)"
            ]
          },
          "metadata": {
            "tags": []
          },
          "execution_count": 157
        }
      ]
    },
    {
      "metadata": {
        "id": "aRNTbJybUNQw",
        "colab_type": "code",
        "colab": {
          "base_uri": "https://localhost:8080/",
          "height": 361
        },
        "outputId": "ca8af7ac-23f9-4ce4-b12b-4745a20efea7"
      },
      "cell_type": "code",
      "source": [
        "mse2,s2= compare_images(img,img2,\"Explanation Difference\")"
      ],
      "execution_count": 158,
      "outputs": [
        {
          "output_type": "stream",
          "text": [
            "/usr/local/lib/python3.6/dist-packages/skimage/measure/_structural_similarity.py:234: skimage_deprecation: Function ``structural_similarity`` is deprecated and will be removed in version 0.14. Use ``compare_ssim`` instead.\n",
            "  def structural_similarity(X, Y, win_size=None, gradient=False,\n"
          ],
          "name": "stderr"
        },
        {
          "output_type": "display_data",
          "data": {
            "image/png": "[encoded data removed]",
            "text/plain": [
              "<matplotlib.figure.Figure at 0x7f2399e19dd8>"
            ]
          },
          "metadata": {
            "tags": []
          }
        }
      ]
    },
    {
      "metadata": {
        "id": "4DQUOCCIUS8h",
        "colab_type": "code",
        "colab": {}
      },
      "cell_type": "code",
      "source": [
        "#stability score for the current image\n",
        "# stability = change in the explanation / change in the input\n",
        "stability = mse2/mse1"
      ],
      "execution_count": 0,
      "outputs": []
    },
    {
      "metadata": {
        "id": "l5Cf9cZ1VUE6",
        "colab_type": "code",
        "colab": {
          "base_uri": "https://localhost:8080/",
          "height": 34
        },
        "outputId": "1d105f0a-2783-46a0-b566-b87e1006b694"
      },
      "cell_type": "code",
      "source": [
        "stability"
      ],
      "execution_count": 160,
      "outputs": [
        {
          "output_type": "execute_result",
          "data": {
            "text/plain": [
              "0.875786165658815"
            ]
          },
          "metadata": {
            "tags": []
          },
          "execution_count": 160
        }
      ]
    },
    {
      "metadata": {
        "id": "BHERR-_ZVgL-",
        "colab_type": "code",
        "colab": {}
      },
      "cell_type": "code",
      "source": [
        "#To find the average stability of the model\n",
        "#we can run over all the test images"
      ],
      "execution_count": 0,
      "outputs": []
    }
  ]
}